{
  "nbformat": 4,
  "nbformat_minor": 0,
  "metadata": {
    "colab": {
      "provenance": []
    },
    "kernelspec": {
      "name": "python3",
      "display_name": "Python 3"
    },
    "language_info": {
      "name": "python"
    }
  },
  "cells": [
    {
      "cell_type": "code",
      "execution_count": null,
      "metadata": {
        "id": "kdWUhyMKvU5E"
      },
      "outputs": [],
      "source": [
        "from sklearn.datasets import load_diabetes\n",
        "ld=load_diabetes()\n",
        "x=ld.data\n",
        "y=ld.target\n",
        "from sklearn.preprocessing import StandardScaler\n",
        "from keras.callbacks import EarlyStopping\n",
        "es=EarlyStopping(monitor='val_loss',patience=3,mode='min',min_delta=0.001)\n",
        "ss=StandardScaler()\n",
        "x1=ss.fit_transform(x)\n",
        "from sklearn.model_selection import train_test_split\n",
        "xtrain,xtest,ytrain,ytest=train_test_split(x1,y,test_size=0.2)\n",
        "from keras.models import Sequential\n",
        "from keras.layers import Dense\n",
        "model=Sequential()\n",
        "model.add(Dense(12,activation='relu',input_dim=10))\n",
        "model.add(Dense(12,activation='relu'))\n",
        "model.add(Dense(5,activation='relu'))\n",
        "model.add(Dense(1,activation='relu'))\n",
        "model.compile(optimizer='adam',loss='mean_squared_error',metrics=['accuracy'])\n"
      ]
    },
    {
      "cell_type": "code",
      "source": [
        "hs=model.fit(xtrain,ytrain,validation_data=(xtest,ytest),\n",
        "          epochs=1000,callbacks=[es])"
      ],
      "metadata": {
        "id": "zGXBkerXzeRq"
      },
      "execution_count": null,
      "outputs": []
    },
    {
      "cell_type": "code",
      "source": [
        "hs.history.keys()"
      ],
      "metadata": {
        "colab": {
          "base_uri": "https://localhost:8080/"
        },
        "id": "6uxE6TWhA8Xz",
        "outputId": "be72c27e-7ff0-4238-b196-00c79d953930"
      },
      "execution_count": null,
      "outputs": [
        {
          "output_type": "execute_result",
          "data": {
            "text/plain": [
              "dict_keys(['loss', 'val_loss'])"
            ]
          },
          "metadata": {},
          "execution_count": 36
        }
      ]
    },
    {
      "cell_type": "code",
      "source": [
        "import matplotlib.pyplot as plt\n",
        "plt.plot(hs.history['val_loss'])\n",
        "plt.plot(hs.history['loss'])\n",
        "plt.legend(['val_loss','loss'])\n"
      ],
      "metadata": {
        "colab": {
          "base_uri": "https://localhost:8080/",
          "height": 283
        },
        "id": "TOR6tS1wBvZH",
        "outputId": "15c8d5e6-8a36-42a0-d815-6434f871218d"
      },
      "execution_count": null,
      "outputs": [
        {
          "output_type": "execute_result",
          "data": {
            "text/plain": [
              "<matplotlib.legend.Legend at 0x7fe5ff7b7e50>"
            ]
          },
          "metadata": {},
          "execution_count": 43
        },
        {
          "output_type": "display_data",
          "data": {
            "text/plain": [
              "<Figure size 432x288 with 1 Axes>"
            ],
            "image/png": "[encoded data removed]"
          },
          "metadata": {
            "needs_background": "light"
          }
        }
      ]
    },
    {
      "cell_type": "code",
      "source": [
        "plt.plot(hs.history['accuracy'])\n",
        "plt.plot(hs.history['val_accuracy'])"
      ],
      "metadata": {
        "colab": {
          "base_uri": "https://localhost:8080/",
          "height": 283
        },
        "id": "6FRdbamWDenK",
        "outputId": "b9af4837-b618-4272-c2ae-34e3d8d34f0d"
      },
      "execution_count": null,
      "outputs": [
        {
          "output_type": "execute_result",
          "data": {
            "text/plain": [
              "[<matplotlib.lines.Line2D at 0x7fe5ff831d30>]"
            ]
          },
          "metadata": {},
          "execution_count": 41
        },
        {
          "output_type": "display_data",
          "data": {
            "text/plain": [
              "<Figure size 432x288 with 1 Axes>"
            ],
            "image/png": "[encoded data removed]"
          },
          "metadata": {
            "needs_background": "light"
          }
        }
      ]
    }
  ]
}